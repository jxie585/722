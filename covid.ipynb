{
 "cells": [
  {
   "cell_type": "code",
   "execution_count": 1,
   "metadata": {},
   "outputs": [],
   "source": [
    "import findspark\n",
    "findspark.init('/home/ubuntu/spark-2.1.1-bin-hadoop2.7')\n",
    "import pyspark\n",
    "from pyspark.sql import SparkSession\n",
    "spark = SparkSession.builder.appName('jxie585_722').getOrCreate()"
   ]
  },
  {
   "cell_type": "code",
   "execution_count": 2,
   "metadata": {},
   "outputs": [
    {
     "name": "stdout",
     "output_type": "stream",
     "text": [
      "rows: 5165 columns: 15\n",
      "+---+----------+------+---+-------+--------+------------+--------------------+-----------+--------------+------------------+--------------+-------------+-------------+--------+\n",
      "|_c0|patient_id|   sex|age|country|province|        city|      infection_case|infected_by|contact_number|symptom_onset_date|confirmed_date|released_date|deceased_date|   state|\n",
      "+---+----------+------+---+-------+--------+------------+--------------------+-----------+--------------+------------------+--------------+-------------+-------------+--------+\n",
      "|  1|1000000001|  male| 50|  Korea|   Seoul|  Gangseo-gu|     overseas inflow|       null|            75|        2020-01-22|    2020-01-23|   2020-02-05|         null|released|\n",
      "|  2|1000000002|  male| 30|  Korea|   Seoul| Jungnang-gu|     overseas inflow|       null|            31|              null|    2020-01-30|   2020-03-02|         null|released|\n",
      "|  3|1000000003|  male| 50|  Korea|   Seoul|   Jongno-gu|contact with patient| 2002000001|            17|              null|    2020-01-30|   2020-02-19|         null|released|\n",
      "|  4|1000000004|  male| 20|  Korea|   Seoul|     Mapo-gu|     overseas inflow|       null|             9|        2020-01-26|    2020-01-30|   2020-02-15|         null|released|\n",
      "|  5|1000000005|female| 20|  Korea|   Seoul| Seongbuk-gu|contact with patient| 1000000002|             2|              null|    2020-01-31|   2020-02-24|         null|released|\n",
      "|  6|1000000006|female| 50|  Korea|   Seoul|   Jongno-gu|contact with patient| 1000000003|            43|              null|    2020-01-31|   2020-02-19|         null|released|\n",
      "|  7|1000000007|  male| 20|  Korea|   Seoul|   Jongno-gu|contact with patient| 1000000003|             0|              null|    2020-01-31|   2020-02-10|         null|released|\n",
      "|  8|1000000008|  male| 20|  Korea|   Seoul|         etc|     overseas inflow|       null|             0|              null|    2020-02-02|   2020-02-24|         null|released|\n",
      "|  9|1000000009|  male| 30|  Korea|   Seoul|   Songpa-gu|     overseas inflow|       null|            68|              null|    2020-02-05|   2020-02-21|         null|released|\n",
      "| 10|1000000010|female| 60|  Korea|   Seoul| Seongbuk-gu|contact with patient| 1000000003|             6|              null|    2020-02-05|   2020-02-29|         null|released|\n",
      "| 11|1000000011|female| 50|  China|   Seoul|Seodaemun-gu|     overseas inflow|       null|            23|              null|    2020-02-06|   2020-02-29|         null|released|\n",
      "| 12|1000000012|  male| 20|  Korea|   Seoul|         etc|     overseas inflow|       null|             0|              null|    2020-02-07|   2020-02-27|         null|released|\n",
      "| 13|1000000013|  male| 80|  Korea|   Seoul|   Jongno-gu|contact with patient| 1000000017|           117|              null|    2020-02-16|         null|         null|deceased|\n",
      "| 14|1000000014|female| 60|  Korea|   Seoul|   Jongno-gu|contact with patient| 1000000013|            27|        2020-02-06|    2020-02-16|   2020-03-12|         null|released|\n",
      "| 15|1000000015|  male| 70|  Korea|   Seoul|Seongdong-gu|    Seongdong-gu APT|       null|             8|        2020-02-11|    2020-02-19|         null|         null|released|\n",
      "| 16|1000000016|  male| 70|  Korea|   Seoul|   Jongno-gu|contact with patient| 1000000017|          null|              null|    2020-02-19|   2020-03-11|         null|released|\n",
      "| 17|1000000017|  male| 70|  Korea|   Seoul|   Jongno-gu|contact with patient| 1000000003|          null|              null|    2020-02-20|   2020-03-01|         null|released|\n",
      "| 18|1000000018|  male| 20|  Korea|   Seoul|         etc|                 etc|       null|          null|              null|    2020-02-20|         null|         null|released|\n",
      "| 19|1000000019|female| 70|  Korea|   Seoul|   Jongno-gu|contact with patient| 1000000021|          null|              null|    2020-02-20|   2020-03-08|         null|released|\n",
      "| 20|1000000020|female| 70|  Korea|   Seoul|Seongdong-gu|    Seongdong-gu APT| 1000000015|          null|              null|    2020-02-20|         null|         null|released|\n",
      "+---+----------+------+---+-------+--------+------------+--------------------+-----------+--------------+------------------+--------------+-------------+-------------+--------+\n",
      "only showing top 20 rows\n",
      "\n"
     ]
    }
   ],
   "source": [
    "df = spark.read.load(\"./covid.csv\", format=\"csv\", header=\"true\")\n",
    "print(\"rows: \" + str(df.count()), \"columns: \" + str(len(df.columns)))\n",
    "df.show()"
   ]
  },
  {
   "cell_type": "code",
   "execution_count": 3,
   "metadata": {},
   "outputs": [
    {
     "data": {
      "text/plain": [
       "['_c0',\n",
       " 'patient_id',\n",
       " 'sex',\n",
       " 'age',\n",
       " 'country',\n",
       " 'province',\n",
       " 'city',\n",
       " 'infection_case',\n",
       " 'infected_by',\n",
       " 'contact_number',\n",
       " 'symptom_onset_date',\n",
       " 'confirmed_date',\n",
       " 'released_date',\n",
       " 'deceased_date',\n",
       " 'state']"
      ]
     },
     "execution_count": 3,
     "metadata": {},
     "output_type": "execute_result"
    }
   ],
   "source": [
    "df.columns"
   ]
  },
  {
   "cell_type": "code",
   "execution_count": 4,
   "metadata": {},
   "outputs": [
    {
     "name": "stdout",
     "output_type": "stream",
     "text": [
      "+-------+------------------+--------------------+------+------------------+----------+--------+--------------+--------------------+--------------------+--------------------+------------------+--------------+-------------+-------------+--------+\n",
      "|summary|               _c0|          patient_id|   sex|               age|   country|province|          city|      infection_case|         infected_by|      contact_number|symptom_onset_date|confirmed_date|released_date|deceased_date|   state|\n",
      "+-------+------------------+--------------------+------+------------------+----------+--------+--------------+--------------------+--------------------+--------------------+------------------+--------------+-------------+-------------+--------+\n",
      "|  count|              5165|                5165|  4043|              5165|      5165|    5165|          5071|                4246|                1346|                 791|               690|          5162|         1587|           66|    5165|\n",
      "|   mean|            2583.0|2.8636345618679576E9|  null|  40.3672391017173|      null|    null|          null|                null|2.2845944015643125E9|1.6772572523506988E7|              null|          null|         null|         null|    null|\n",
      "| stddev|1491.1514007638527| 2.074210725277473E9|  null|20.197162016016495|      null|    null|          null|                null|1.5265072953383324E9| 3.093097580985502E8|              null|          null|         null|         null|    null|\n",
      "|    min|                 1|          1000000001|female|                 0|Bangladesh|   Busan|     Andong-si|Anyang Gunpo Past...|          1000000002|                   -|                  |    2020-01-20|   2020-02-05|   2020-02-19|deceased|\n",
      "|    max|               999|          7000000019|  male|                NA|   Vietnam|   Ulsan|sankyeock-dong|     overseas inflow|          7000000009|                  95|        2020-06-28|    2020-06-30|   2020-06-28|   2020-05-25|released|\n",
      "+-------+------------------+--------------------+------+------------------+----------+--------+--------------+--------------------+--------------------+--------------------+------------------+--------------+-------------+-------------+--------+\n",
      "\n"
     ]
    }
   ],
   "source": [
    "df.describe().show()"
   ]
  },
  {
   "cell_type": "code",
   "execution_count": 6,
   "metadata": {},
   "outputs": [
    {
     "name": "stdout",
     "output_type": "stream",
     "text": [
      "root\n",
      " |-- _c0: string (nullable = true)\n",
      " |-- patient_id: string (nullable = true)\n",
      " |-- sex: string (nullable = true)\n",
      " |-- age: string (nullable = true)\n",
      " |-- country: string (nullable = true)\n",
      " |-- province: string (nullable = true)\n",
      " |-- city: string (nullable = true)\n",
      " |-- infection_case: string (nullable = true)\n",
      " |-- infected_by: string (nullable = true)\n",
      " |-- contact_number: string (nullable = true)\n",
      " |-- symptom_onset_date: string (nullable = true)\n",
      " |-- confirmed_date: string (nullable = true)\n",
      " |-- released_date: string (nullable = true)\n",
      " |-- deceased_date: string (nullable = true)\n",
      " |-- state: string (nullable = true)\n",
      "\n"
     ]
    }
   ],
   "source": [
    "df.printSchema()"
   ]
  },
  {
   "cell_type": "code",
   "execution_count": 7,
   "metadata": {},
   "outputs": [
    {
     "data": {
      "text/plain": [
       "5165"
      ]
     },
     "execution_count": 7,
     "metadata": {},
     "output_type": "execute_result"
    }
   ],
   "source": [
    "df.count()"
   ]
  },
  {
   "cell_type": "code",
   "execution_count": 8,
   "metadata": {},
   "outputs": [
    {
     "name": "stdout",
     "output_type": "stream",
     "text": [
      "+---+----------+------+---+-------+--------+------------+--------------------+-----------+--------------+------------------+--------------+-------------+-------------+--------+\n",
      "|_c0|patient_id|   sex|age|country|province|        city|      infection_case|infected_by|contact_number|symptom_onset_date|confirmed_date|released_date|deceased_date|   state|\n",
      "+---+----------+------+---+-------+--------+------------+--------------------+-----------+--------------+------------------+--------------+-------------+-------------+--------+\n",
      "|  1|1000000001|  male| 50|  Korea|   Seoul|  Gangseo-gu|     overseas inflow|   NO VALUE|            75|        2020-01-22|    2020-01-23|   2020-02-05|     NO VALUE|released|\n",
      "|  2|1000000002|  male| 30|  Korea|   Seoul| Jungnang-gu|     overseas inflow|   NO VALUE|            31|          NO VALUE|    2020-01-30|   2020-03-02|     NO VALUE|released|\n",
      "|  3|1000000003|  male| 50|  Korea|   Seoul|   Jongno-gu|contact with patient| 2002000001|            17|          NO VALUE|    2020-01-30|   2020-02-19|     NO VALUE|released|\n",
      "|  4|1000000004|  male| 20|  Korea|   Seoul|     Mapo-gu|     overseas inflow|   NO VALUE|             9|        2020-01-26|    2020-01-30|   2020-02-15|     NO VALUE|released|\n",
      "|  5|1000000005|female| 20|  Korea|   Seoul| Seongbuk-gu|contact with patient| 1000000002|             2|          NO VALUE|    2020-01-31|   2020-02-24|     NO VALUE|released|\n",
      "|  6|1000000006|female| 50|  Korea|   Seoul|   Jongno-gu|contact with patient| 1000000003|            43|          NO VALUE|    2020-01-31|   2020-02-19|     NO VALUE|released|\n",
      "|  7|1000000007|  male| 20|  Korea|   Seoul|   Jongno-gu|contact with patient| 1000000003|             0|          NO VALUE|    2020-01-31|   2020-02-10|     NO VALUE|released|\n",
      "|  8|1000000008|  male| 20|  Korea|   Seoul|         etc|     overseas inflow|   NO VALUE|             0|          NO VALUE|    2020-02-02|   2020-02-24|     NO VALUE|released|\n",
      "|  9|1000000009|  male| 30|  Korea|   Seoul|   Songpa-gu|     overseas inflow|   NO VALUE|            68|          NO VALUE|    2020-02-05|   2020-02-21|     NO VALUE|released|\n",
      "| 10|1000000010|female| 60|  Korea|   Seoul| Seongbuk-gu|contact with patient| 1000000003|             6|          NO VALUE|    2020-02-05|   2020-02-29|     NO VALUE|released|\n",
      "| 11|1000000011|female| 50|  China|   Seoul|Seodaemun-gu|     overseas inflow|   NO VALUE|            23|          NO VALUE|    2020-02-06|   2020-02-29|     NO VALUE|released|\n",
      "| 12|1000000012|  male| 20|  Korea|   Seoul|         etc|     overseas inflow|   NO VALUE|             0|          NO VALUE|    2020-02-07|   2020-02-27|     NO VALUE|released|\n",
      "| 13|1000000013|  male| 80|  Korea|   Seoul|   Jongno-gu|contact with patient| 1000000017|           117|          NO VALUE|    2020-02-16|     NO VALUE|     NO VALUE|deceased|\n",
      "| 14|1000000014|female| 60|  Korea|   Seoul|   Jongno-gu|contact with patient| 1000000013|            27|        2020-02-06|    2020-02-16|   2020-03-12|     NO VALUE|released|\n",
      "| 15|1000000015|  male| 70|  Korea|   Seoul|Seongdong-gu|    Seongdong-gu APT|   NO VALUE|             8|        2020-02-11|    2020-02-19|     NO VALUE|     NO VALUE|released|\n",
      "| 16|1000000016|  male| 70|  Korea|   Seoul|   Jongno-gu|contact with patient| 1000000017|      NO VALUE|          NO VALUE|    2020-02-19|   2020-03-11|     NO VALUE|released|\n",
      "| 17|1000000017|  male| 70|  Korea|   Seoul|   Jongno-gu|contact with patient| 1000000003|      NO VALUE|          NO VALUE|    2020-02-20|   2020-03-01|     NO VALUE|released|\n",
      "| 18|1000000018|  male| 20|  Korea|   Seoul|         etc|                 etc|   NO VALUE|      NO VALUE|          NO VALUE|    2020-02-20|     NO VALUE|     NO VALUE|released|\n",
      "| 19|1000000019|female| 70|  Korea|   Seoul|   Jongno-gu|contact with patient| 1000000021|      NO VALUE|          NO VALUE|    2020-02-20|   2020-03-08|     NO VALUE|released|\n",
      "| 20|1000000020|female| 70|  Korea|   Seoul|Seongdong-gu|    Seongdong-gu APT| 1000000015|      NO VALUE|          NO VALUE|    2020-02-20|     NO VALUE|     NO VALUE|released|\n",
      "+---+----------+------+---+-------+--------+------------+--------------------+-----------+--------------+------------------+--------------+-------------+-------------+--------+\n",
      "only showing top 20 rows\n",
      "\n"
     ]
    }
   ],
   "source": [
    "df.na.fill(\"NO VALUE\").show()"
   ]
  },
  {
   "cell_type": "code",
   "execution_count": 9,
   "metadata": {},
   "outputs": [
    {
     "data": {
      "text/html": [
       "<div>\n",
       "<style scoped>\n",
       "    .dataframe tbody tr th:only-of-type {\n",
       "        vertical-align: middle;\n",
       "    }\n",
       "\n",
       "    .dataframe tbody tr th {\n",
       "        vertical-align: top;\n",
       "    }\n",
       "\n",
       "    .dataframe thead th {\n",
       "        text-align: right;\n",
       "    }\n",
       "</style>\n",
       "<table border=\"1\" class=\"dataframe\">\n",
       "  <thead>\n",
       "    <tr style=\"text-align: right;\">\n",
       "      <th></th>\n",
       "      <th>0</th>\n",
       "    </tr>\n",
       "  </thead>\n",
       "  <tbody>\n",
       "    <tr>\n",
       "      <th>_c0</th>\n",
       "      <td>0</td>\n",
       "    </tr>\n",
       "    <tr>\n",
       "      <th>patient_id</th>\n",
       "      <td>0</td>\n",
       "    </tr>\n",
       "    <tr>\n",
       "      <th>sex</th>\n",
       "      <td>1122</td>\n",
       "    </tr>\n",
       "    <tr>\n",
       "      <th>age</th>\n",
       "      <td>0</td>\n",
       "    </tr>\n",
       "    <tr>\n",
       "      <th>country</th>\n",
       "      <td>0</td>\n",
       "    </tr>\n",
       "    <tr>\n",
       "      <th>province</th>\n",
       "      <td>0</td>\n",
       "    </tr>\n",
       "    <tr>\n",
       "      <th>city</th>\n",
       "      <td>94</td>\n",
       "    </tr>\n",
       "    <tr>\n",
       "      <th>infection_case</th>\n",
       "      <td>919</td>\n",
       "    </tr>\n",
       "    <tr>\n",
       "      <th>infected_by</th>\n",
       "      <td>3819</td>\n",
       "    </tr>\n",
       "    <tr>\n",
       "      <th>contact_number</th>\n",
       "      <td>4374</td>\n",
       "    </tr>\n",
       "    <tr>\n",
       "      <th>symptom_onset_date</th>\n",
       "      <td>4475</td>\n",
       "    </tr>\n",
       "    <tr>\n",
       "      <th>confirmed_date</th>\n",
       "      <td>3</td>\n",
       "    </tr>\n",
       "    <tr>\n",
       "      <th>released_date</th>\n",
       "      <td>3578</td>\n",
       "    </tr>\n",
       "    <tr>\n",
       "      <th>deceased_date</th>\n",
       "      <td>5099</td>\n",
       "    </tr>\n",
       "    <tr>\n",
       "      <th>state</th>\n",
       "      <td>0</td>\n",
       "    </tr>\n",
       "  </tbody>\n",
       "</table>\n",
       "</div>"
      ],
      "text/plain": [
       "                       0\n",
       "_c0                    0\n",
       "patient_id             0\n",
       "sex                 1122\n",
       "age                    0\n",
       "country                0\n",
       "province               0\n",
       "city                  94\n",
       "infection_case       919\n",
       "infected_by         3819\n",
       "contact_number      4374\n",
       "symptom_onset_date  4475\n",
       "confirmed_date         3\n",
       "released_date       3578\n",
       "deceased_date       5099\n",
       "state                  0"
      ]
     },
     "execution_count": 9,
     "metadata": {},
     "output_type": "execute_result"
    }
   ],
   "source": [
    "from pyspark.sql.functions import *\n",
    "\n",
    "\n",
    "df.select([count(when(isnan(c) | col(c).isNull(), c)).alias(c) for c in df.columns]).toPandas().transpose()"
   ]
  },
  {
   "cell_type": "code",
   "execution_count": 10,
   "metadata": {},
   "outputs": [
    {
     "name": "stdout",
     "output_type": "stream",
     "text": [
      "+---+------+--------------------+--------+--------+\n",
      "|age|   sex|      infection_case|province|   state|\n",
      "+---+------+--------------------+--------+--------+\n",
      "| 50|  male|     overseas inflow|   Seoul|released|\n",
      "| 30|  male|     overseas inflow|   Seoul|released|\n",
      "| 50|  male|contact with patient|   Seoul|released|\n",
      "| 20|  male|     overseas inflow|   Seoul|released|\n",
      "| 20|female|contact with patient|   Seoul|released|\n",
      "| 50|female|contact with patient|   Seoul|released|\n",
      "| 20|  male|contact with patient|   Seoul|released|\n",
      "| 20|  male|     overseas inflow|   Seoul|released|\n",
      "| 30|  male|     overseas inflow|   Seoul|released|\n",
      "| 60|female|contact with patient|   Seoul|released|\n",
      "| 50|female|     overseas inflow|   Seoul|released|\n",
      "| 20|  male|     overseas inflow|   Seoul|released|\n",
      "| 80|  male|contact with patient|   Seoul|deceased|\n",
      "| 60|female|contact with patient|   Seoul|released|\n",
      "| 70|  male|    Seongdong-gu APT|   Seoul|released|\n",
      "| 70|  male|contact with patient|   Seoul|released|\n",
      "| 70|  male|contact with patient|   Seoul|released|\n",
      "| 20|  male|                 etc|   Seoul|released|\n",
      "| 70|female|contact with patient|   Seoul|released|\n",
      "| 70|female|    Seongdong-gu APT|   Seoul|released|\n",
      "+---+------+--------------------+--------+--------+\n",
      "only showing top 20 rows\n",
      "\n"
     ]
    }
   ],
   "source": [
    "data = df.select(df.age,df.sex,df.infection_case,df.province,df.state)\n",
    "data.show()"
   ]
  },
  {
   "cell_type": "code",
   "execution_count": 11,
   "metadata": {},
   "outputs": [
    {
     "name": "stdout",
     "output_type": "stream",
     "text": [
      "root\n",
      " |-- age: string (nullable = true)\n",
      " |-- sex: string (nullable = true)\n",
      " |-- infection_case: string (nullable = true)\n",
      " |-- province: string (nullable = true)\n",
      " |-- state: string (nullable = true)\n",
      "\n"
     ]
    }
   ],
   "source": [
    "data.printSchema()"
   ]
  },
  {
   "cell_type": "code",
   "execution_count": 12,
   "metadata": {},
   "outputs": [
    {
     "data": {
      "text/plain": [
       "DataFrame[age: string]"
      ]
     },
     "execution_count": 12,
     "metadata": {},
     "output_type": "execute_result"
    }
   ],
   "source": [
    "data.select(data.age).na.drop()"
   ]
  },
  {
   "cell_type": "code",
   "execution_count": 13,
   "metadata": {},
   "outputs": [
    {
     "name": "stdout",
     "output_type": "stream",
     "text": [
      "+---+------+--------------------+--------+--------+-----------+------+--------+\n",
      "|age|   sex|      infection_case|province|   state|province_id|sex_id|state_id|\n",
      "+---+------+--------------------+--------+--------+-----------+------+--------+\n",
      "| 50|  male|     overseas inflow|   Seoul|released|          0|     0|       0|\n",
      "| 30|  male|     overseas inflow|   Seoul|released|          0|     0|       0|\n",
      "| 50|  male|contact with patient|   Seoul|released|          0|     0|       0|\n",
      "| 20|  male|     overseas inflow|   Seoul|released|          0|     0|       0|\n",
      "| 20|female|contact with patient|   Seoul|released|          0|     1|       0|\n",
      "| 50|female|contact with patient|   Seoul|released|          0|     1|       0|\n",
      "| 20|  male|contact with patient|   Seoul|released|          0|     0|       0|\n",
      "| 20|  male|     overseas inflow|   Seoul|released|          0|     0|       0|\n",
      "| 30|  male|     overseas inflow|   Seoul|released|          0|     0|       0|\n",
      "| 60|female|contact with patient|   Seoul|released|          0|     1|       0|\n",
      "| 50|female|     overseas inflow|   Seoul|released|          0|     1|       0|\n",
      "| 20|  male|     overseas inflow|   Seoul|released|          0|     0|       0|\n",
      "| 80|  male|contact with patient|   Seoul|deceased|          0|     0|       1|\n",
      "| 60|female|contact with patient|   Seoul|released|          0|     1|       0|\n",
      "| 70|  male|    Seongdong-gu APT|   Seoul|released|          0|     0|       0|\n",
      "| 70|  male|contact with patient|   Seoul|released|          0|     0|       0|\n",
      "| 70|  male|contact with patient|   Seoul|released|          0|     0|       0|\n",
      "| 20|  male|                 etc|   Seoul|released|          0|     0|       0|\n",
      "| 70|female|contact with patient|   Seoul|released|          0|     1|       0|\n",
      "| 70|female|    Seongdong-gu APT|   Seoul|released|          0|     1|       0|\n",
      "+---+------+--------------------+--------+--------+-----------+------+--------+\n",
      "only showing top 20 rows\n",
      "\n"
     ]
    }
   ],
   "source": [
    "from pyspark.sql.functions import col\n",
    "from pyspark.sql.functions import when\n",
    "\n",
    "\n",
    "data = data.withColumn('province_id',when(df.province == \"Seoul\",0).otherwise(1))\n",
    "data = data.withColumn('sex_id',when(df.sex == \"male\",0).otherwise(1))\n",
    "data = data.withColumn('state_id',when(df.state == \"released\",0).when(df.state == \"deceased\",1).when(df.state == \"isolated\",2))\n",
    "\n",
    "data.show()"
   ]
  },
  {
   "cell_type": "code",
   "execution_count": 14,
   "metadata": {},
   "outputs": [
    {
     "name": "stdout",
     "output_type": "stream",
     "text": [
      "   corr(age, age)\n",
      "0             1.0\n",
      "   corr(age, province_id)\n",
      "0                  0.0831\n",
      "   corr(age, sex_id)\n",
      "0           0.118521\n",
      "   corr(age, state_id)\n",
      "0             0.078254\n",
      "   corr(province_id, age)\n",
      "0                  0.0831\n",
      "   corr(province_id, province_id)\n",
      "0                             1.0\n",
      "   corr(province_id, sex_id)\n",
      "0                   -0.17826\n",
      "   corr(province_id, state_id)\n",
      "0                     0.212677\n",
      "   corr(sex_id, age)\n",
      "0           0.118521\n",
      "   corr(sex_id, province_id)\n",
      "0                   -0.17826\n",
      "   corr(sex_id, sex_id)\n",
      "0                   1.0\n",
      "   corr(sex_id, state_id)\n",
      "0                0.071657\n",
      "   corr(state_id, age)\n",
      "0             0.078254\n",
      "   corr(state_id, province_id)\n",
      "0                     0.212677\n",
      "   corr(state_id, sex_id)\n",
      "0                0.071657\n",
      "   corr(state_id, state_id)\n",
      "0                       1.0\n"
     ]
    }
   ],
   "source": [
    "from pyspark.sql.functions import corr\n",
    "\n",
    "data_corr = data.select(data.age,data.province_id,data.sex_id,data.state_id)\n",
    "for i in data_corr.columns:\n",
    "    for j in data_corr.columns:\n",
    "        if(i == j):\n",
    "            next\n",
    "        print(data_corr.select(corr(i,j)).toPandas())\n",
    "#data.select(corr(\"age\",\"sex_id\")).show()"
   ]
  },
  {
   "cell_type": "code",
   "execution_count": 15,
   "metadata": {},
   "outputs": [
    {
     "name": "stdout",
     "output_type": "stream",
     "text": [
      "root\n",
      " |-- age: string (nullable = true)\n",
      " |-- sex: string (nullable = true)\n",
      " |-- infection_case: string (nullable = true)\n",
      " |-- province: string (nullable = true)\n",
      " |-- state: string (nullable = true)\n",
      " |-- province_id: integer (nullable = false)\n",
      " |-- sex_id: integer (nullable = false)\n",
      " |-- state_id: integer (nullable = true)\n",
      "\n"
     ]
    }
   ],
   "source": [
    "data.printSchema()"
   ]
  },
  {
   "cell_type": "code",
   "execution_count": 19,
   "metadata": {},
   "outputs": [
    {
     "data": {
      "image/png": "[encoded data removed]",
      "text/plain": [
       "<Figure size 432x288 with 1 Axes>"
      ]
     },
     "metadata": {},
     "output_type": "display_data"
    }
   ],
   "source": [
    "import matplotlib.pyplot as plt\n",
    "\n",
    "age = [v.age for v in df.select('age').collect()]\n",
    "plt.hist(age, color='red',label='age')\n",
    "plt.show()"
   ]
  },
  {
   "cell_type": "code",
   "execution_count": 17,
   "metadata": {},
   "outputs": [
    {
     "data": {
      "image/png": "[encoded data removed]",
      "text/plain": [
       "<Figure size 432x288 with 1 Axes>"
      ]
     },
     "metadata": {},
     "output_type": "display_data"
    }
   ],
   "source": [
    "state = [v.state for v in df.select('state').collect()]\n",
    "plt.hist(state, color='green',label='state')\n",
    "plt.show()"
   ]
  },
  {
   "cell_type": "code",
   "execution_count": 18,
   "metadata": {},
   "outputs": [
    {
     "data": {
      "image/png": "[encoded data removed]",
      "text/plain": [
       "<Figure size 432x288 with 1 Axes>"
      ]
     },
     "metadata": {},
     "output_type": "display_data"
    }
   ],
   "source": [
    "province = [v.province for v in df.select('province').collect()]\n",
    "plt.hist(province, color='blue',label='province')\n",
    "plt.show()"
   ]
  },
  {
   "cell_type": "code",
   "execution_count": 28,
   "metadata": {},
   "outputs": [
    {
     "name": "stdout",
     "output_type": "stream",
     "text": [
      "+---+------+--------------------+--------+--------+\n",
      "|age|   sex|      infection_case|province|   state|\n",
      "+---+------+--------------------+--------+--------+\n",
      "| 50|  male|     overseas inflow|   Seoul|released|\n",
      "| 30|  male|     overseas inflow|   Seoul|released|\n",
      "| 50|  male|contact with patient|   Seoul|released|\n",
      "| 20|  male|     overseas inflow|   Seoul|released|\n",
      "| 20|female|contact with patient|   Seoul|released|\n",
      "| 50|female|contact with patient|   Seoul|released|\n",
      "| 20|  male|contact with patient|   Seoul|released|\n",
      "| 20|  male|     overseas inflow|   Seoul|released|\n",
      "| 30|  male|     overseas inflow|   Seoul|released|\n",
      "| 60|female|contact with patient|   Seoul|released|\n",
      "| 50|female|     overseas inflow|   Seoul|released|\n",
      "| 20|  male|     overseas inflow|   Seoul|released|\n",
      "| 80|  male|contact with patient|   Seoul|deceased|\n",
      "| 60|female|contact with patient|   Seoul|released|\n",
      "| 70|  male|    Seongdong-gu APT|   Seoul|released|\n",
      "| 70|  male|contact with patient|   Seoul|released|\n",
      "| 70|  male|contact with patient|   Seoul|released|\n",
      "| 20|  male|                 etc|   Seoul|released|\n",
      "| 70|female|contact with patient|   Seoul|released|\n",
      "| 70|female|    Seongdong-gu APT|   Seoul|released|\n",
      "+---+------+--------------------+--------+--------+\n",
      "only showing top 20 rows\n",
      "\n"
     ]
    }
   ],
   "source": [
    "import pyspark.sql.functions as f\n",
    "from pyspark.sql.functions import *\n",
    "\n",
    "data = df.select(df.age,df.sex,df.infection_case,df.province,df.state)\n",
    "bounds = {\n",
    "    c: dict(zip([\"q1\", \"q3\"], data.approxQuantile(c, [0.25, 0.75], 0)))\n",
    "    for c in [i for i in data.columns if i not in ('age', \"state\", \"sex\", \"province\", \"infection_case\")]\n",
    "}\n",
    "for c in bounds:\n",
    "    iqr = bounds[c]['q3'] - bounds[c]['q1']\n",
    "    bounds[c]['lower'] = bounds[c]['q1'] - (iqr * 1.5)\n",
    "    bounds[c]['upper'] = bounds[c]['q3'] + (iqr * 1.5)\n",
    "\n",
    "data.select(\n",
    "    \"*\",\n",
    "    *[\n",
    "        f.when(\n",
    "            f.col(c).between(bounds[c]['lower'], bounds[c]['upper']),\n",
    "            0\n",
    "        ).otherwise(1).alias(c+\"_out\") \n",
    "        for c in [i for i in data.columns if i not in ('age', \"state\", \"sex\", \"province\", \"infection_case\")]\n",
    "    ]\n",
    ").show()"
   ]
  },
  {
   "cell_type": "code",
   "execution_count": 26,
   "metadata": {},
   "outputs": [
    {
     "name": "stdout",
     "output_type": "stream",
     "text": [
      "                                  items  freq\n",
      "0                     [overseas inflow]   840\n",
      "1                                [male]  2947\n",
      "2                            [released]  2929\n",
      "3                      [released, male]  1527\n",
      "4                              [female]  2218\n",
      "5                    [female, released]  1402\n",
      "6                            [isolated]  2158\n",
      "7                    [isolated, female]   788\n",
      "8                      [isolated, male]  1370\n",
      "9                [contact with patient]  1610\n",
      "10     [contact with patient, isolated]  1063\n",
      "11         [contact with patient, male]   890\n",
      "12                              [Seoul]  1312\n",
      "13                    [Seoul, released]   985\n",
      "14                        [Seoul, male]  1000\n",
      "15                   [Gyeongsangbuk-do]  1254\n",
      "16         [Gyeongsangbuk-do, released]  1081\n",
      "17                        [Gyeonggi-do]  1208\n",
      "18  [Gyeonggi-do, contact with patient]   777\n",
      "19              [Gyeonggi-do, isolated]  1146\n",
      "20                  [Gyeonggi-do, male]   777\n",
      "21                               [20.0]   899\n"
     ]
    }
   ],
   "source": [
    "import pandas as pd\n",
    "from pyspark.mllib.fpm import FPGrowth\n",
    "\n",
    "source = pd.read_csv(\"./covid.csv\")\n",
    "value = {\"sex\":\"male\"}\n",
    "source = source.fillna(value=value)\n",
    "data = source[['age','sex','infection_case', 'province','state']]\n",
    "list = data.values.tolist()\n",
    "sc = spark.sparkContext\n",
    "rdd = sc.parallelize(list, 4)\n",
    "model = FPGrowth.train(rdd, minSupport=0.15, numPartitions=10)\n",
    "result = model.freqItemsets().toDF().toPandas()\n",
    "print(result)"
   ]
  },
  {
   "cell_type": "code",
   "execution_count": 17,
   "metadata": {},
   "outputs": [
    {
     "name": "stdout",
     "output_type": "stream",
     "text": [
      "train: 3559 test: 1606\n"
     ]
    }
   ],
   "source": [
    "from pyspark.mllib.classification import LogisticRegressionWithLBFGS, LogisticRegressionModel\n",
    "from pyspark.mllib.regression import LabeledPoint\n",
    "\n",
    "\n",
    "source = pd.read_csv(\"./covid.csv\")\n",
    "value = {\"sex\":\"male\"}\n",
    "source = source.fillna(value=value)\n",
    "data = source[['age','sex','infection_case', 'province','state']]\n",
    "list = data.values.tolist()\n",
    "sc = spark.sparkContext\n",
    "rdd = sc.parallelize(list)\n",
    "\n",
    "train, test = rdd.randomSplit([0.7, 0.3], seed=12345)\n",
    "print(\"train: \" + str(train.count()), \"test: \" + str(test.count()))"
   ]
  },
  {
   "cell_type": "code",
   "execution_count": 34,
   "metadata": {},
   "outputs": [
    {
     "name": "stdout",
     "output_type": "stream",
     "text": [
      "                                  items  freq\n",
      "0                     [overseas inflow]   840\n",
      "1                                [male]  2947\n",
      "2                            [released]  2929\n",
      "3                      [released, male]  1527\n",
      "4                              [female]  2218\n",
      "5                    [female, released]  1402\n",
      "6                            [isolated]  2158\n",
      "7                    [isolated, female]   788\n",
      "8                      [isolated, male]  1370\n",
      "9                [contact with patient]  1610\n",
      "10     [contact with patient, isolated]  1063\n",
      "11         [contact with patient, male]   890\n",
      "12                              [Seoul]  1312\n",
      "13                    [Seoul, released]   985\n",
      "14                        [Seoul, male]  1000\n",
      "15                   [Gyeongsangbuk-do]  1254\n",
      "16         [Gyeongsangbuk-do, released]  1081\n",
      "17                        [Gyeonggi-do]  1208\n",
      "18  [Gyeonggi-do, contact with patient]   777\n",
      "19              [Gyeonggi-do, isolated]  1146\n",
      "20                  [Gyeonggi-do, male]   777\n",
      "21                               [20.0]   899\n",
      "                                  items  freq\n",
      "0                     [overseas inflow]   840\n",
      "1                                [male]  2947\n",
      "2                            [released]  2929\n",
      "3                      [released, male]  1527\n",
      "4                              [female]  2218\n",
      "5                    [female, released]  1402\n",
      "6                            [isolated]  2158\n",
      "7                    [isolated, female]   788\n",
      "8                      [isolated, male]  1370\n",
      "9                [contact with patient]  1610\n",
      "10     [contact with patient, isolated]  1063\n",
      "11         [contact with patient, male]   890\n",
      "12                              [Seoul]  1312\n",
      "13                    [Seoul, released]   985\n",
      "14                        [Seoul, male]  1000\n",
      "15                   [Gyeongsangbuk-do]  1254\n",
      "16         [Gyeongsangbuk-do, released]  1081\n",
      "17                        [Gyeonggi-do]  1208\n",
      "18  [Gyeonggi-do, contact with patient]   777\n",
      "19              [Gyeonggi-do, isolated]  1146\n",
      "20                  [Gyeonggi-do, male]   777\n",
      "21                               [20.0]   899\n",
      "                                  items  freq\n",
      "0                     [overseas inflow]   840\n",
      "1                                [male]  2947\n",
      "2                            [released]  2929\n",
      "3                      [released, male]  1527\n",
      "4                              [female]  2218\n",
      "5                    [female, released]  1402\n",
      "6                            [isolated]  2158\n",
      "7                    [isolated, female]   788\n",
      "8                      [isolated, male]  1370\n",
      "9                [contact with patient]  1610\n",
      "10     [contact with patient, isolated]  1063\n",
      "11         [contact with patient, male]   890\n",
      "12                              [Seoul]  1312\n",
      "13                    [Seoul, released]   985\n",
      "14                        [Seoul, male]  1000\n",
      "15                   [Gyeongsangbuk-do]  1254\n",
      "16         [Gyeongsangbuk-do, released]  1081\n",
      "17                        [Gyeonggi-do]  1208\n",
      "18  [Gyeonggi-do, contact with patient]   777\n",
      "19              [Gyeonggi-do, isolated]  1146\n",
      "20                  [Gyeonggi-do, male]   777\n",
      "21                               [20.0]   899\n",
      "                                  items  freq\n",
      "0                     [overseas inflow]   840\n",
      "1                                [male]  2947\n",
      "2                            [released]  2929\n",
      "3                      [released, male]  1527\n",
      "4                              [female]  2218\n",
      "5                    [female, released]  1402\n",
      "6                            [isolated]  2158\n",
      "7                    [isolated, female]   788\n",
      "8                      [isolated, male]  1370\n",
      "9                [contact with patient]  1610\n",
      "10     [contact with patient, isolated]  1063\n",
      "11         [contact with patient, male]   890\n",
      "12                              [Seoul]  1312\n",
      "13                    [Seoul, released]   985\n",
      "14                        [Seoul, male]  1000\n",
      "15                   [Gyeongsangbuk-do]  1254\n",
      "16         [Gyeongsangbuk-do, released]  1081\n",
      "17                        [Gyeonggi-do]  1208\n",
      "18  [Gyeonggi-do, contact with patient]   777\n",
      "19              [Gyeonggi-do, isolated]  1146\n",
      "20                  [Gyeonggi-do, male]   777\n",
      "21                               [20.0]   899\n",
      "                                  items  freq\n",
      "0                     [overseas inflow]   840\n",
      "1                                [male]  2947\n",
      "2                            [released]  2929\n",
      "3                      [released, male]  1527\n",
      "4                              [female]  2218\n",
      "5                    [female, released]  1402\n",
      "6                            [isolated]  2158\n",
      "7                    [isolated, female]   788\n",
      "8                      [isolated, male]  1370\n",
      "9                [contact with patient]  1610\n",
      "10     [contact with patient, isolated]  1063\n",
      "11         [contact with patient, male]   890\n",
      "12                              [Seoul]  1312\n",
      "13                    [Seoul, released]   985\n",
      "14                        [Seoul, male]  1000\n",
      "15                   [Gyeongsangbuk-do]  1254\n",
      "16         [Gyeongsangbuk-do, released]  1081\n",
      "17                        [Gyeonggi-do]  1208\n",
      "18  [Gyeonggi-do, contact with patient]   777\n",
      "19              [Gyeonggi-do, isolated]  1146\n",
      "20                  [Gyeonggi-do, male]   777\n",
      "21                               [20.0]   899\n"
     ]
    }
   ],
   "source": [
    "for i in range(5):\n",
    "    source = pd.read_csv(\"./covid.csv\")\n",
    "    value = {\"sex\":\"male\"}\n",
    "    source = source.fillna(value=value)\n",
    "    data = source[['age','sex','infection_case', 'province','state']]\n",
    "    list = data.values.tolist()\n",
    "    sc = spark.sparkContext\n",
    "    rdd = sc.parallelize(list)\n",
    "    model = FPGrowth.train(rdd, minSupport=0.15, numPartitions=10)\n",
    "    result = model.freqItemsets().toDF().toPandas()\n",
    "    print(result)\n"
   ]
  },
  {
   "cell_type": "code",
   "execution_count": null,
   "metadata": {},
   "outputs": [],
   "source": []
  }
 ],
 "metadata": {
  "kernelspec": {
   "display_name": "Python 3",
   "language": "python",
   "name": "python3"
  },
  "language_info": {
   "codemirror_mode": {
    "name": "ipython",
    "version": 3
   },
   "file_extension": ".py",
   "mimetype": "text/x-python",
   "name": "python",
   "nbconvert_exporter": "python",
   "pygments_lexer": "ipython3",
   "version": "3.5.2"
  }
 },
 "nbformat": 4,
 "nbformat_minor": 2
}
